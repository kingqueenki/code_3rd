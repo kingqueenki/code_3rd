{
  "nbformat": 4,
  "nbformat_minor": 0,
  "metadata": {
    "colab": {
      "provenance": [],
      "authorship_tag": "ABX9TyPcUOc4oK4fsJONdR20zfX6",
      "include_colab_link": true
    },
    "kernelspec": {
      "name": "python3",
      "display_name": "Python 3"
    },
    "language_info": {
      "name": "python"
    }
  },
  "cells": [
    {
      "cell_type": "markdown",
      "metadata": {
        "id": "view-in-github",
        "colab_type": "text"
      },
      "source": [
        "<a href=\"https://colab.research.google.com/github/kingqueenki/code_3rd/blob/main/CTBA_9.ipynb\" target=\"_parent\"><img src=\"https://colab.research.google.com/assets/colab-badge.svg\" alt=\"Open In Colab\"/></a>"
      ]
    },
    {
      "cell_type": "markdown",
      "source": [
        "1. 두가지 이상의 선택, 다방향 선택구조 코딩\n",
        " - 배송료 처리 3가지로 작성\n",
        " - 변수: price, 가격 10만원이상 0원, 2만원 이상 3000원, 그외5천원"
      ],
      "metadata": {
        "id": "mQ0pnmWUMXtQ"
      }
    },
    {
      "cell_type": "code",
      "source": [
        "print(\"배송료를 계산합니다.\")\n",
        "print(\"#\"*30)\n",
        "price=int(input(\"구입금액 입력:\"))\n",
        "if price>= 100000:\n",
        "  shipping_coast=0\n",
        "else:\n",
        "  if price>= 200000:\n",
        "    shipping_coast=3000\n",
        "  else:\n",
        "   shipping_coast=5000\n",
        "print(f'배송료는 {shipping_coast}원 입니다')"
      ],
      "metadata": {
        "colab": {
          "base_uri": "https://localhost:8080/"
        },
        "id": "LOashtrrUarC",
        "outputId": "33ada4db-8c7a-48cf-c870-3790e2af36e7"
      },
      "execution_count": 31,
      "outputs": [
        {
          "output_type": "stream",
          "name": "stdout",
          "text": [
            "배송료를 계산합니다.\n",
            "##############################\n",
            "구입금액 입력:19000\n",
            "배송료는 5000원 입니다\n"
          ]
        }
      ]
    },
    {
      "cell_type": "markdown",
      "source": [
        "2.환영합니다. 5번 출력 10번 출력 30번 출력"
      ],
      "metadata": {
        "id": "Gf0qX67oOYC8"
      }
    },
    {
      "cell_type": "code",
      "source": [
        "print(\"환영합니다.\")\n",
        "print(\"환영합니다.\")\n",
        "print(\"환영합니다.\")\n",
        "print(\"환영합니다.\")\n",
        "print(\"환영합니다.\")"
      ],
      "metadata": {
        "colab": {
          "base_uri": "https://localhost:8080/"
        },
        "id": "m0RsYIxCOkj_",
        "outputId": "c4d3d450-8e86-47cd-ff2b-f738faae235f"
      },
      "execution_count": 1,
      "outputs": [
        {
          "output_type": "stream",
          "name": "stdout",
          "text": [
            "환영합니다.\n",
            "환영합니다.\n",
            "환영합니다.\n",
            "환영합니다.\n",
            "환영합니다.\n"
          ]
        }
      ]
    },
    {
      "cell_type": "code",
      "source": [
        "print(\"환영합니다.\\n\" * 5)"
      ],
      "metadata": {
        "colab": {
          "base_uri": "https://localhost:8080/"
        },
        "id": "HpXjIkcXOyM1",
        "outputId": "03b50352-1fc3-4ef5-dcd3-d84e0c52fcab"
      },
      "execution_count": 4,
      "outputs": [
        {
          "output_type": "stream",
          "name": "stdout",
          "text": [
            "환영합니다.\n",
            "환영합니다.\n",
            "환영합니다.\n",
            "환영합니다.\n",
            "환영합니다.\n",
            "\n"
          ]
        }
      ]
    },
    {
      "cell_type": "code",
      "source": [
        "count=1\n",
        "while count<=5:\n",
        "  #print(\"(\", count ,\")\" , \"환영합니다.\")\n",
        "  print(F'({count})', \"환영합니다.\")\n",
        "  #count=count+1\n",
        "  count+=1"
      ],
      "metadata": {
        "colab": {
          "base_uri": "https://localhost:8080/"
        },
        "id": "TMfkecBlSjZI",
        "outputId": "37483d39-9a61-4bb2-801d-774a5097d654"
      },
      "execution_count": 52,
      "outputs": [
        {
          "output_type": "stream",
          "name": "stdout",
          "text": [
            "(1) 환영합니다.\n",
            "(2) 환영합니다.\n",
            "(3) 환영합니다.\n",
            "(4) 환영합니다.\n",
            "(5) 환영합니다.\n"
          ]
        }
      ]
    },
    {
      "cell_type": "markdown",
      "source": [
        "3.0부터 9까지 출력하는 코드작성"
      ],
      "metadata": {
        "id": "OHKjlshpU66r"
      }
    },
    {
      "cell_type": "code",
      "source": [
        "X=0\n",
        "while X <10:\n",
        " print(X, end='')\n",
        " X+=1"
      ],
      "metadata": {
        "colab": {
          "base_uri": "https://localhost:8080/"
        },
        "id": "8LTaXkXWVAv1",
        "outputId": "eefe87ac-10e4-4b71-cdbb-15dc3d391fe8"
      },
      "execution_count": 19,
      "outputs": [
        {
          "output_type": "stream",
          "name": "stdout",
          "text": [
            "0123456789"
          ]
        }
      ]
    },
    {
      "cell_type": "markdown",
      "source": [
        "4. 1부터 10까지 정수의 합을 계산하여 출력하는 코드 작성"
      ],
      "metadata": {
        "id": "cg57ehOaYX4C"
      }
    },
    {
      "cell_type": "code",
      "source": [
        "x=1\n",
        "total=0\n",
        "while x<=10:\n",
        "  total=total + x\n",
        "  x+=1\n",
        "print(total)"
      ],
      "metadata": {
        "colab": {
          "base_uri": "https://localhost:8080/"
        },
        "id": "VcaRpdHKYg2f",
        "outputId": "9addf8f7-4dae-4a2b-a935-0d2dc3d8e663"
      },
      "execution_count": 30,
      "outputs": [
        {
          "output_type": "stream",
          "name": "stdout",
          "text": [
            "55\n"
          ]
        }
      ]
    },
    {
      "cell_type": "code",
      "source": [
        "x=1\n",
        "while x <= 10:\n",
        "  print(x)\n",
        "  x+=1"
      ],
      "metadata": {
        "colab": {
          "base_uri": "https://localhost:8080/"
        },
        "id": "nkXk1mn2ZCRr",
        "outputId": "4260a262-52b0-43c2-b60a-804be82584fb"
      },
      "execution_count": 29,
      "outputs": [
        {
          "output_type": "stream",
          "name": "stdout",
          "text": [
            "1\n",
            "2\n",
            "3\n",
            "4\n",
            "5\n",
            "6\n",
            "7\n",
            "8\n",
            "9\n",
            "10\n"
          ]
        }
      ]
    },
    {
      "cell_type": "markdown",
      "source": [
        "5. 3-6-9 게임(3의 배수 판단): 3의 배수를 3으로 나누면 나머지가 0이 되므로 (i mod 3)의 값이 0이면 박수를 출력 아니면 숫자를 출력해주는 코드 작성"
      ],
      "metadata": {
        "id": "C1ljrOxtVoej"
      }
    },
    {
      "cell_type": "code",
      "source": [
        "i=1                                          # 변수 i는 0으로 선언\n",
        "while i<=30:                                 # 반복문 while 사용해서 i가 30보다 작거나 같을때\n",
        "  if i % 3 == 0:                             # 만약 i값을 3으로 나눈 나머지가 0이면\n",
        "    print(\"박수\", end=' ')                   # 박수를 출력하고 공백을 하나 만듦\n",
        "  else:                                      # 위의 것이 아니면\n",
        "    print(i, end=' ')                        # i값만 출력하고 공백 하나 만듦\n",
        "  i+=1                                       # 변수 i 값에 i와 1을 더해서 다시 변수 i에 선언"
      ],
      "metadata": {
        "colab": {
          "base_uri": "https://localhost:8080/"
        },
        "id": "OwBeoug9V_yf",
        "outputId": "799f832a-6cc3-4969-e941-9f126b00c75c"
      },
      "execution_count": 27,
      "outputs": [
        {
          "output_type": "stream",
          "name": "stdout",
          "text": [
            "1 2 박수 4 5 박수 7 8 박수 10 11 박수 13 14 박수 16 17 박수 19 20 박수 22 23 박수 25 26 박수 28 29 박수 "
          ]
        }
      ]
    },
    {
      "cell_type": "code",
      "source": [
        "for num in range(1, 11 ):               # 1부터 11까지의 숫자를 반복\n",
        "  if num%3==0:                          # 숫자(num)를 3으로 나눈 나머지가 0인 경우\n",
        "    print(\"박수\", end='')               # 박수를 출력하고 공백 만듦\n",
        "  else:                                 # 그게 아니면\n",
        "    print(num, end=' ')                 # 숫자만 출력하고 공백 만듦"
      ],
      "metadata": {
        "colab": {
          "base_uri": "https://localhost:8080/"
        },
        "id": "GU7qIS9_ZTna",
        "outputId": "290eebd8-7dd9-444a-b124-2165ab8db8f9"
      },
      "execution_count": 41,
      "outputs": [
        {
          "output_type": "stream",
          "name": "stdout",
          "text": [
            "1 2 박수4 5 박수7 8 박수10 "
          ]
        }
      ]
    },
    {
      "cell_type": "markdown",
      "source": [
        "6.팩토리얼 계산하는 코드 작성"
      ],
      "metadata": {
        "id": "i-s0qIbFaej7"
      }
    },
    {
      "cell_type": "code",
      "source": [
        "i=4\n",
        "factorial=1\n",
        "while i >= 1:\n",
        "  factorial = factorial * i\n",
        "  i-=1\n",
        "print(factorial)"
      ],
      "metadata": {
        "colab": {
          "base_uri": "https://localhost:8080/"
        },
        "id": "iuiwycWhai8G",
        "outputId": "9b4d71ad-c8c7-4d5c-e9cc-2ef5e04dc746"
      },
      "execution_count": 49,
      "outputs": [
        {
          "output_type": "stream",
          "name": "stdout",
          "text": [
            "24\n"
          ]
        }
      ]
    },
    {
      "cell_type": "code",
      "source": [
        "num=int(input(\"팩토리얼값 입력:\"))\n",
        "factorial=1\n",
        "while num>=1:\n",
        "  factorial= factorial* num\n",
        "  num-=1\n",
        "print(\"계산된 팩토리얼 값은 :\", factorial)"
      ],
      "metadata": {
        "colab": {
          "base_uri": "https://localhost:8080/"
        },
        "id": "rKa3unUEbgtj",
        "outputId": "34d34e21-a428-4db0-be05-681e6fed4727"
      },
      "execution_count": 40,
      "outputs": [
        {
          "output_type": "stream",
          "name": "stdout",
          "text": [
            "팩토리얼값 입력:5\n",
            "계산된 팩토리얼 값은 : 120\n"
          ]
        }
      ]
    }
  ]
}