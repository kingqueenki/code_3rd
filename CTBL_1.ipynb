{
  "nbformat": 4,
  "nbformat_minor": 0,
  "metadata": {
    "colab": {
      "provenance": [],
      "authorship_tag": "ABX9TyNHH6YixgoYPasZUbjszb5x",
      "include_colab_link": true
    },
    "kernelspec": {
      "name": "python3",
      "display_name": "Python 3"
    },
    "language_info": {
      "name": "python"
    }
  },
  "cells": [
    {
      "cell_type": "markdown",
      "metadata": {
        "id": "view-in-github",
        "colab_type": "text"
      },
      "source": [
        "<a href=\"https://colab.research.google.com/github/kingqueenki/code_3rd/blob/main/CTBL_1.ipynb\" target=\"_parent\"><img src=\"https://colab.research.google.com/assets/colab-badge.svg\" alt=\"Open In Colab\"/></a>"
      ]
    },
    {
      "cell_type": "markdown",
      "source": [
        "1. 학생으로부터 성적을 입력받아 합격유무를 출력하는 코드작성\n",
        " - 사용변수: Grade\n",
        " - 사용수식: Grade>=70:"
      ],
      "metadata": {
        "id": "C3yR0fRU0ouw"
      }
    },
    {
      "cell_type": "code",
      "source": [
        "Grade = int(input(\"성적입력: \")) # 사용자로부터 \"성적입력:\"라는 메시지와 함께 성적을 입력받습니다. 입력받은 값은 문자열 형태이므로 int 함수를 사용해 정수형으로 변환합니다.\n",
        "if Grade>= 70: # if 문을 사용하여 성적이 70점 이상인지 확인합니다.\n",
        "  print(\"70점 이상이므로 합격\") # 성적이 70점 이상이면 \"70점 이상이므로 합격\"을 출력합니다.\n",
        "else:                           # if 다음의 조건이 참(True)일 때 해당 블록의 코드를 실행하고, 그렇지 않으면 else 블록의 코드를 실행합니다.\n",
        "  print(\"70점이하는 불합격\") # 성적이 70점 미만이면 \"70점이하는 불합격\"을 출력합니다."
      ],
      "metadata": {
        "colab": {
          "base_uri": "https://localhost:8080/"
        },
        "id": "Q-Jif5cn1Q1I",
        "outputId": "df95d9c7-587f-411a-f013-b3bf0560771d"
      },
      "execution_count": null,
      "outputs": [
        {
          "output_type": "stream",
          "name": "stdout",
          "text": [
            "성적입력: 75\n",
            "70점 이상이므로 합격\n"
          ]
        }
      ]
    },
    {
      "cell_type": "markdown",
      "source": [
        "2.쇼핑몰의 배송료를 계산하는 코드 작성\n",
        " - 변수명: price, shipping_cost\n",
        " - 수식: price >= 20000\n",
        " - shipping_cost= 3000"
      ],
      "metadata": {
        "id": "RtTJtAXk3rzm"
      }
    },
    {
      "cell_type": "code",
      "source": [
        "price= int(input(\"구입금액 입력: \")) # 사용자로부터 \"구입금액 입력:\"라는 메시지와 함께 구입금액을 입력받습니다. 입력받은 값은 문자열 형태이므로 int 함수를 사용해 정수형으로 변환합니다.\n",
        "if price >= 20000: # if 문을 사용하여 구입금액이 2만원 이상인지 확인합니다.\n",
        "  shipping_cost= 0 # 구입금액이 2만원 이상이면 배송비는 0원입니다.\n",
        "  print(f'구입금액이 {price}원 이상입니다.') # \"구입금액이 {price}원 이상입니다.\"를 출력합니다. 여기서 {price}는 입력받은 구입금액입니다.\n",
        "else:\n",
        "  shipping_cost=3000 # 구입금액이 2만원 미만이면 배송비는 3000원입니다.\n",
        "  print(\"구입금액이 2만원 미만입니다\")  # \"구입금액이 2만원 미만입니다\"를 출력합니다.\n",
        "print(f'회원님의 배송료는 {shipping_cost}입니다.') # \"회원님의 배송료는 {shipping_cost}원입니다.\"를 출력합니다. 여기서 {shipping_cost}는 계산된 배송비입니다."
      ],
      "metadata": {
        "colab": {
          "base_uri": "https://localhost:8080/"
        },
        "id": "LiwJ54QP42S_",
        "outputId": "e5cde427-c359-442b-ca13-5c0fbdf997cc"
      },
      "execution_count": null,
      "outputs": [
        {
          "output_type": "stream",
          "name": "stdout",
          "text": [
            "구입금액 입력: 21000\n",
            "구입금액이 21000원 이상입니다.\n",
            "회원님의 배송료는 0입니다.\n"
          ]
        }
      ]
    },
    {
      "cell_type": "markdown",
      "source": [
        "3. 근무시간에 따라 초과근무와 정상근무를 판별하는 코드작성\n",
        " - 변수: work_hour\n",
        " - 수식 >= , 기준시간: 72시간"
      ],
      "metadata": {
        "id": "bZiaQFlP783L"
      }
    },
    {
      "cell_type": "code",
      "source": [
        "work_hour=int(input(\"근무시간 입력:\")) # 사용자로부터 \"근무시간 입력:\"라는 메시지와 함께 근무 시간을 입력받습니다. 입력받은 값은 문자열 형태이므로 int 함수를 사용해 정수형으로 변환합니다.\n",
        "if work_hour>=72: # if 문을 사용하여 근무 시간이 72시간 이상인지 확인합니다.\n",
        " print(\"초과근무하였습니다.\") # 근무 시간이 72시간 이상이면 \"초과근무하였습니다.\"를 출력합니다.\n",
        "else:\n",
        "  print(\"정상근무입니다\") # 근무 시간이 72시간 미만이면 \"정상근무입니다\"를 출력합니다."
      ],
      "metadata": {
        "colab": {
          "base_uri": "https://localhost:8080/"
        },
        "id": "R7E0OL1H8XiM",
        "outputId": "d83929bb-4b2f-443c-a95f-57f26751fd5f"
      },
      "execution_count": null,
      "outputs": [
        {
          "output_type": "stream",
          "name": "stdout",
          "text": [
            "근무시간 입력:73\n",
            "초과근무하였습니다.\n"
          ]
        }
      ]
    },
    {
      "cell_type": "markdown",
      "source": [
        "4.정수를 입력받아서 짝수인지 홀수인지 판별하는 코드작성\n",
        " - 변수: num\n",
        " - 수식: (num % 2) !=0:"
      ],
      "metadata": {
        "id": "u_3qaG5k-Asr"
      }
    },
    {
      "cell_type": "code",
      "source": [
        "num=int(input(\"정수를 입력하시오:\")) # 사용자로부터 \"정수를 입력하시오:\"라는 메시지와 함께 정수를 입력받습니다. 입력받은 값은 문자열 형태이므로 int 함수를 사용해 정수형으로 변환합니다.\n",
        "if (num % 2) !=0: # if 문을 사용하여 입력받은 정수를 2로 나눈 나머지가 0이 아닌지 확인합니다.\n",
        "  print(\"홀수입니다.\") # 정수를 2로 나눈 나머지가 0이 아니면(즉, 홀수이면) \"홀수입니다.\"를 출력합니다.\n",
        "else:\n",
        "  print(\"짝수입니다.\") # 정수를 2로 나눈 나머지가 0이면(즉, 짝수이면) \"짝수입니다.\"를 출력합니다."
      ],
      "metadata": {
        "colab": {
          "base_uri": "https://localhost:8080/"
        },
        "id": "ltu5VeoZ-qtL",
        "outputId": "d16160d0-a61d-464f-d21d-56ad5456d2e1"
      },
      "execution_count": null,
      "outputs": [
        {
          "output_type": "stream",
          "name": "stdout",
          "text": [
            "정수를 입력하시오:4\n",
            "짝수입니다.\n"
          ]
        }
      ]
    },
    {
      "cell_type": "markdown",
      "source": [
        "5. 사용자의 이름과 나이를 입력받고 답변하는 코드작성\n",
        " - 입력: 성명 - name\n",
        " - 입력: 나이 - age\n",
        " - 수식: if age <= 20:\n",
        "\n",
        " 최종출력문\n",
        " - 이름을 입력하시오.: ***\n",
        " - 나이를 입력하시오.: **\n",
        " - (1) 프로그래밍을 배우는 최적의 나이입니다.\n",
        " - (2)  아직 늦지않았습니다.도전정신"
      ],
      "metadata": {
        "id": "slEhd0a6AnvC"
      }
    },
    {
      "cell_type": "code",
      "source": [
        "name=input(\"이름을 입력하시오.:\") # 사용자로부터 \"이름을 입력하시오.:\"라는 메시지와 함께 이름을 입력받습니다.\n",
        "age=int(input(\"나이를 입력하시오.:\")) # 사용자로부터 \"나이를 입력하시오.:\"라는 메시지와 함께 나이를 입력받습니다. 입력받은 값은 문자열 형태이므로 int 함수를 사용해 정수형으로 변환합니다.\n",
        "if age<= 20: # if 문을 사용하여 나이가 20세 이하인지 확인합니다.\n",
        "  print(\"프로그래밍을 배우는 최적의 나이입니다.\") # 나이가 20세 이하이면 \"프로그래밍을 배우는 최적의 나이입니다.\"를 출력합니다.\n",
        "else:\n",
        "  print(\"아직 늦지않았습니다.도전정신\") # 나이가 20세 초과이면 \"아직 늦지않았습니다.도전정신\"을 출력합니다."
      ],
      "metadata": {
        "colab": {
          "base_uri": "https://localhost:8080/"
        },
        "id": "QTHjIng1BdZC",
        "outputId": "079ec7b9-aaa9-4037-85e0-cc743e182945"
      },
      "execution_count": null,
      "outputs": [
        {
          "output_type": "stream",
          "name": "stdout",
          "text": [
            "이름을 입력하시오.:조윤형\n",
            "나이를 입력하시오.:20\n",
            "프로그래밍을 배우는 최적의 나이입니다.\n"
          ]
        }
      ]
    },
    {
      "cell_type": "code",
      "source": [
        "import random  # random 모듈을 가져옵니다. 이 모듈을 통해 무작위 숫자를 생성할 수 있습니다.\n",
        "\n",
        "def generate_lotto_numbers():  # 로또 번호를 생성하는 함수를 정의합니다.\n",
        "    numbers = set()  # 중복되지 않는 숫자를 저장하기 위해 set 자료구조를 사용합니다.\n",
        "\n",
        "    while len(numbers) < 6:  # 로또 번호는 6개이므로, set의 길이가 6이 될 때까지 반복합니다.\n",
        "        number = random.randint(1, 45)  # 1부터 45사이의 무작위 숫자를 생성합니다.\n",
        "        numbers.add(number)  # 생성한 숫자를 set에 추가합니다.\n",
        "\n",
        "    return sorted(list(numbers))  # set를 리스트로 변환 후 정렬하여 반환합니다.\n",
        "\n",
        "# 메인 코드\n",
        "lotto_numbers = generate_lotto_numbers()  # 로또 번호를 생성합니다.\n",
        "print(\"로또 번호는:\", lotto_numbers)  # 생성한 로또 번호를 출력합니다.\n"
      ],
      "metadata": {
        "colab": {
          "base_uri": "https://localhost:8080/"
        },
        "id": "iPQpPf9JFFoQ",
        "outputId": "e0c2dc2a-b08d-402e-d9ac-e5a42b37a8bd"
      },
      "execution_count": null,
      "outputs": [
        {
          "output_type": "stream",
          "name": "stdout",
          "text": [
            "로또 번호는: [7, 11, 14, 17, 37, 39]\n"
          ]
        }
      ]
    },
    {
      "cell_type": "code",
      "source": [
        "# 사용자의 이름과 나이를 입력받습니다.\n",
        "name = input(\"당신의 이름을 입력해주세요: \")\n",
        "age = int(input(\"당신의 나이를 입력해주세요: \")) # 입력받은 값은 문자열 형태이므로 int 함수를 사용해 정수형으로 변환합니다.\n",
        "# 입력받은 이름과 나이를 기반으로 메시지를 출력합니다.\n",
        "print(\"안녕하세요, {}님. 당신은 {}살이시군요.\".format(name, age)) # 여기서 첫 번째 {}는 입력받은 이름, 두 번째 {}는 입력받은 나이를 출력합니다."
      ],
      "metadata": {
        "colab": {
          "base_uri": "https://localhost:8080/"
        },
        "id": "eFbi2K81GVjn",
        "outputId": "9e17ebc1-a072-48c0-99e3-5200bde7a472"
      },
      "execution_count": null,
      "outputs": [
        {
          "output_type": "stream",
          "name": "stdout",
          "text": [
            "당신의 이름을 입력해주세요: 20\n",
            "당신의 나이를 입력해주세요: 20\n",
            "안녕하세요, 20님. 당신은 20살이시군요.\n"
          ]
        }
      ]
    }
  ]
}