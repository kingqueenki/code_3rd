{
  "nbformat": 4,
  "nbformat_minor": 0,
  "metadata": {
    "colab": {
      "provenance": [],
      "authorship_tag": "ABX9TyMiAq29XEPmEwKRt5vJki6l",
      "include_colab_link": true
    },
    "kernelspec": {
      "name": "python3",
      "display_name": "Python 3"
    },
    "language_info": {
      "name": "python"
    }
  },
  "cells": [
    {
      "cell_type": "markdown",
      "metadata": {
        "id": "view-in-github",
        "colab_type": "text"
      },
      "source": [
        "<a href=\"https://colab.research.google.com/github/kingqueenki/code_3rd/blob/main/CTA_Array.ipynb\" target=\"_parent\"><img src=\"https://colab.research.google.com/assets/colab-badge.svg\" alt=\"Open In Colab\"/></a>"
      ]
    },
    {
      "cell_type": "markdown",
      "source": [
        "1. 배열의 선언\n",
        " - 일반 변수의 선언: 변수명 = 변수의 값\n",
        " - 배열의 변수 선언: 변수명= {  ,  ,  }\n",
        "\n",
        "\n"
      ],
      "metadata": {
        "id": "2qI2-gW-MLlU"
      }
    },
    {
      "cell_type": "code",
      "execution_count": null,
      "metadata": {
        "colab": {
          "base_uri": "https://localhost:8080/"
        },
        "id": "pzQihkf4MHwF",
        "outputId": "3f3be72f-fd47-4808-e30b-384443ddbd49"
      },
      "outputs": [
        {
          "output_type": "stream",
          "name": "stdout",
          "text": [
            "아바타\n",
            "어벤져스\n"
          ]
        }
      ],
      "source": [
        "movie_list=[\"아바타\", \"타이타닉\", \"스타워즈\", \"주라기월드\", \"어벤져스\"] # \"아바타\", \"타이타닉\", \"스타워즈\", \"주라기월드\", \"어벤져스\"이라는 문자열을 원소로 가지는 리스트를 정의하고, 이를 movie_list라는 변수에 할당합니다.\n",
        "print(movie_list[0]) # movie_list의 첫 번째 원소를 출력합니다. 파이썬의 인덱스는 0부터 시작하기 때문에, 첫 번째 원소를 선택하려면 0을 인덱스로 사용합니다.\n",
        "print(movie_list[4]) # movie_list의 다섯 번째 원소를 출력합니다. 파이썬의 인덱스는 0부터 시작하기 때문에, 다섯 번째 원소를 선택하려면 4를 인덱스로 사용합니다."
      ]
    },
    {
      "cell_type": "markdown",
      "source": [
        "2. 요일을 배열로 선언하라\n",
        " - 변수명 : day_list\n",
        " * 요일 : 월(mon.),화(Tue.), 수(Wed.),목(Thur.), 금(Fri.), 토(Sat.), 일(Sun.)"
      ],
      "metadata": {
        "id": "aGN4NQ-1OaML"
      }
    },
    {
      "cell_type": "code",
      "source": [
        "day_list=[\"월(mon.)\",\"화(Tue.)\", \"수(Wed.)\", \"목(Thur.)\", \"금(Fri.)\", \"토(Sat.)\", \"일(Sun.)\"] # \"월(mon.)\", \"화(Tue.)\", \"수(Wed.)\", \"목(Thur.)\", \"금(Fri.)\", \"토(Sat.)\", \"일(Sun.)\"이라는 문자열을 원소로 가지는 리스트를 정의하고, 이를 day_list라는 변수에 할당합니다.\n",
        "print(day_list[0]) # day_list의 첫 번째 원소부터 일곱 번째 원소까지 순서대로 출력합니다. 파이썬의 인덱스는 0부터 시작하기 때문에, 첫 번째 원소를 선택하려면 0을, 두 번째 원소를 선택하려면 1을, 이런 식으로 인덱스를 사용합니다.\n",
        "print(day_list[1])\n",
        "print(day_list[2])\n",
        "print(day_list[3])\n",
        "print(day_list[4])\n",
        "print(day_list[5])\n",
        "print(day_list[6])"
      ],
      "metadata": {
        "colab": {
          "base_uri": "https://localhost:8080/"
        },
        "id": "DeKyw_lnQCIK",
        "outputId": "d9ad0b6c-9cea-4258-dc0b-59f4a9c9a199"
      },
      "execution_count": null,
      "outputs": [
        {
          "output_type": "stream",
          "name": "stdout",
          "text": [
            "월(mon.)\n",
            "화(Tue.)\n",
            "수(Wed.)\n",
            "목(Thur.)\n",
            "금(Fri.)\n",
            "토(Sat.)\n",
            "일(Sun.)\n"
          ]
        }
      ]
    }
  ]
}