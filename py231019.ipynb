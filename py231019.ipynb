{
  "nbformat": 4,
  "nbformat_minor": 0,
  "metadata": {
    "colab": {
      "provenance": [],
      "authorship_tag": "ABX9TyOvEnPCqynulXVkk4fnGAjD",
      "include_colab_link": true
    },
    "kernelspec": {
      "name": "python3",
      "display_name": "Python 3"
    },
    "language_info": {
      "name": "python"
    }
  },
  "cells": [
    {
      "cell_type": "markdown",
      "metadata": {
        "id": "view-in-github",
        "colab_type": "text"
      },
      "source": [
        "<a href=\"https://colab.research.google.com/github/kingqueenki/code_3rd/blob/main/py231019.ipynb\" target=\"_parent\"><img src=\"https://colab.research.google.com/assets/colab-badge.svg\" alt=\"Open In Colab\"/></a>"
      ]
    },
    {
      "cell_type": "markdown",
      "source": [
        "1.To-Do List를 작성하시오.\n",
        " -2023년 10월 19일 조윤형\n",
        " - (1) 9:20 도서관에서 책 빌리기\n",
        " - (2) 11:10 컴퓨팅적 사고와 기초코딩 수업\n",
        " - (3) 13:00 점심식사\n",
        " - (4) 14:10 교양수업\n",
        " - (5) 16:00 파이썬 공부 및 레포트 작성\n",
        " - (6) 17:40 저녁식사 및 집안일 돕기\n",
        " - (7) 19:00 LOL하기\n",
        "\n",
        "\n",
        "\n",
        "\n",
        "\n"
      ],
      "metadata": {
        "id": "RDrSMpy-ucC2"
      }
    },
    {
      "cell_type": "code",
      "execution_count": null,
      "metadata": {
        "colab": {
          "base_uri": "https://localhost:8080/"
        },
        "id": "0JFrzo7TuMg8",
        "outputId": "bdfc262c-55f9-409e-c7f0-cc9e7261984f"
      },
      "outputs": [
        {
          "output_type": "stream",
          "name": "stdout",
          "text": [
            "To-do List\n",
            "(1) 9:20 도서관에서 책 빌리기\n",
            "(2) 11:10 컴퓨팅적 사고와 기초코딩 수업\n",
            "(3) 13:00 점심식사\n",
            "(4) 14:10 교양수업\n",
            "(5) 16:00 파이썬 공부 및 레포트 작성\n",
            "(6) 17:40 저녁식사 및 집안일 돕기\n",
            "(7) 19:00 LOL하기\n"
          ]
        }
      ],
      "source": [
        "print(\"To-do List\") # \"To-do List\"라는 제목을 출력합니다.\n",
        "print(\"(1) 9:20 도서관에서 책 빌리기\") # 그 다음 각각의 일정을 번호와 함께 출력합니다.\n",
        "print(\"(2) 11:10 컴퓨팅적 사고와 기초코딩 수업\")\n",
        "print(\"(3) 13:00 점심식사\")\n",
        "print(\"(4) 14:10 교양수업\")\n",
        "print(\"(5) 16:00 파이썬 공부 및 레포트 작성\")\n",
        "print(\"(6) 17:40 저녁식사 및 집안일 돕기\")\n",
        "print(\"(7) 19:00 LOL하기\")"
      ]
    },
    {
      "cell_type": "markdown",
      "source": [
        "2. 인사말 출력하기\n",
        " - 식사하셨습니까?형님"
      ],
      "metadata": {
        "id": "da0p6060wWhO"
      }
    },
    {
      "cell_type": "code",
      "source": [
        "print(\"식사하셨습니까 형님?\") #\"식사하셨습니까 형님? \" 이라는 메시지를 출력합니다."
      ],
      "metadata": {
        "colab": {
          "base_uri": "https://localhost:8080/"
        },
        "id": "cH-BwIr-yO8-",
        "outputId": "2a875d85-cb8a-42f1-da82-c1862c1767ae"
      },
      "execution_count": null,
      "outputs": [
        {
          "output_type": "stream",
          "name": "stdout",
          "text": [
            "식사하셨습니까 형님?\n"
          ]
        }
      ]
    },
    {
      "cell_type": "markdown",
      "source": [
        "3. 학생 4명의 국어점수를 입력받아서 아래와 같이 출력하시오.\n",
        " - 박보검: 90점\n",
        " -션: 92점\n",
        " -도룡용: 80점\n",
        " -차은우: 99점\n",
        " -국어점수 순위\n",
        " -1등 차은우\n",
        " -2등 션\n",
        " -3등 박보검\n",
        " -4등 도룡용"
      ],
      "metadata": {
        "id": "RW9AYM_Rwtvd"
      }
    },
    {
      "cell_type": "code",
      "source": [
        "n1=(input(\"박보검의 국어점수:\")) # 사용자로부터 박보검의 국어 점수를 입력받습니다.\n",
        "n2=(input(\"션의 국어점수:\")) # 사용자로부터 션의 국어 점수를 입력받습니다.\n",
        "n3=(input(\"도룡용의 국어점수:\")) # 사용자로부터 도룡용의 국어 점수를 입력받습니다.\n",
        "n4=(input(\"차은우의 국어점수:\")) # 사용자로부터 차은우의 국어 점수를 입력받습니다.\n",
        "print(\"1등 차은우\",n4, \"점\") # 각 학생의 점수를 출력합니다. 하지만, 점수를 비교하여 등수를 매기는 로직이 없습니다\n",
        "print(\"2등 션\", n2, \"점\")\n",
        "print(\"3등 박보검\",n3, \"점\")\n",
        "print(\"4등 도룡용\", n1,\"점\")"
      ],
      "metadata": {
        "colab": {
          "base_uri": "https://localhost:8080/"
        },
        "id": "-qhGYopuyP2N",
        "outputId": "17758709-909c-40dc-ddd4-a8156cbf4f64"
      },
      "execution_count": null,
      "outputs": [
        {
          "output_type": "stream",
          "name": "stdout",
          "text": [
            "박보검의 국어점수:90\n",
            "션의 국어점수:92\n",
            "도룡용의 국어점수:80\n",
            "차은우의 국어점수:99\n",
            "1등 차은우 99 점\n",
            "2등 션 92 점\n",
            "3등 박보검 80 점\n",
            "4등 도룡용 90 점\n"
          ]
        }
      ]
    },
    {
      "cell_type": "markdown",
      "source": [
        "4. 두개의 점수를 입력받아서 합계와 평균을 출력하시오."
      ],
      "metadata": {
        "id": "Fnr4DgytxfYO"
      }
    },
    {
      "cell_type": "code",
      "source": [
        "n1=int(input(\"n1의 값을 입력하시오:\")) # 사용자로부터 n1의 값을 정수로 입력받습니다.\n",
        "n2=int(input(\"n2의 값을 입력하시오:\")) # 사용자로부터 n2의 값을 정수로 입력받습니다.\n",
        "total=n1+n2 # 입력받은 두 수의 합계를 계산하여 total 변수에 저장합니다.\n",
        "average=total/2 # total을 2로 나누어 평균을 계산하고, 이를 average 변수에 저장합니다.\n",
        "print(average) # 평균값을 출력합니다.\n",
        "print(total) # 합계를 출력합니다."
      ],
      "metadata": {
        "colab": {
          "base_uri": "https://localhost:8080/"
        },
        "id": "AkoPgnK8yQlP",
        "outputId": "c4a217dc-382b-4a1a-beeb-4db159dddfe7"
      },
      "execution_count": null,
      "outputs": [
        {
          "output_type": "stream",
          "name": "stdout",
          "text": [
            "n1의 값을 입력하시오:80\n",
            "n2의 값을 입력하시오:100\n",
            "90.0\n",
            "180\n"
          ]
        }
      ]
    }
  ]
}