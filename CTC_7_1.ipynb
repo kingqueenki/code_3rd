{
  "nbformat": 4,
  "nbformat_minor": 0,
  "metadata": {
    "colab": {
      "provenance": [],
      "authorship_tag": "ABX9TyMnAn+r8Nwi6U8UvFdGK+k0",
      "include_colab_link": true
    },
    "kernelspec": {
      "name": "python3",
      "display_name": "Python 3"
    },
    "language_info": {
      "name": "python"
    }
  },
  "cells": [
    {
      "cell_type": "markdown",
      "metadata": {
        "id": "view-in-github",
        "colab_type": "text"
      },
      "source": [
        "<a href=\"https://colab.research.google.com/github/kingqueenki/code_3rd/blob/main/CTC_7_1.ipynb\" target=\"_parent\"><img src=\"https://colab.research.google.com/assets/colab-badge.svg\" alt=\"Open In Colab\"/></a>"
      ]
    },
    {
      "cell_type": "markdown",
      "source": [
        "1. 사용자로부터 3개의 값(x,y,z)를 입력받아서 각각 1씩 증가되고, 출력되는 코드작성"
      ],
      "metadata": {
        "id": "6xhFWWsZG8FN"
      }
    },
    {
      "cell_type": "code",
      "execution_count": null,
      "metadata": {
        "colab": {
          "base_uri": "https://localhost:8080/"
        },
        "id": "Clj9xDwYG7a9",
        "outputId": "112d472e-d42d-4de8-9d62-5daedc97a350"
      },
      "outputs": [
        {
          "output_type": "stream",
          "name": "stdout",
          "text": [
            "x의 값을 입력하시오.:1\n",
            "y의 값을 입력하시오.:2\n",
            "z의 값을 입력하시오.:3\n",
            "x의 값은2이며,y의 값은 3이고,z의 값은 4이다.\n"
          ]
        }
      ],
      "source": [
        "x=int(input(\"x의 값을 입력하시오.:\")) # 사용자로부터 \"x의 값을 입력하시오.:\"라는 메시지와 함께 x의 값을 입력받습니다. 입력받은 값은 문자열 형태이므로 int 함수를 사용해 정수형으로 변환합니다.\n",
        "y=int(input(\"y의 값을 입력하시오.:\")) # 위와 같은 방식으로 y의 값을 입력받습니다.\n",
        "z=int(input(\"z의 값을 입력하시오.:\")) # 위와 같은 방식으로 z의 값을 입력받습니다.\n",
        "x=x+1 # x의 값을 1 증가시킵니다.\n",
        "y=y+1 # y의 값을 1 증가시킵니다.\n",
        "z=z+1 # z의 값을 1 증가시킵니다.\n",
        "print(f'x의 값은{x}이며,y의 값은 {y}이고,z의 값은 {z}이다.') # 증가된 x, y, z의 값을 출력합니다. f-string 포매팅을 사용하여 변수의 값을 직접 문자열 안에 넣어 출력합니다."
      ]
    },
    {
      "cell_type": "markdown",
      "source": [
        "2. 알바생의 시급과 시간을 계산하여 월급을 출력하는 코드\n",
        "\n",
        "---\n",
        "\n"
      ],
      "metadata": {
        "id": "mcLMA-clJMGD"
      }
    },
    {
      "cell_type": "code",
      "source": [
        "hours_worked=int(input(\"일한 시간을 입력하시오:\")) # 사용자로부터 \"일한 시간을 입력하시오:\"라는 메시지와 함께 일한 시간을 입력받습니다. 입력받은 값은 문자열 형태이므로 int 함수를 사용해 정수형으로 변환합니다.\n",
        "pay_rate=int(input(\"시급을 입력하시오(23기준 9620원):\")) # 위와 같은 방식으로 시급을 입력받습니다. \"시급을 입력하시오(23기준 9620원):\"라는 메시지를 보여주며 입력을 받습니다.\n",
        "monthly_pay=hours_worked*pay_rate # 일한 시간과 시급을 곱하여 월급을 계산하고, 그 결과를 monthly_pay에 저장합니다.\n",
        "print(f'일한 시간은{hours_worked}이고, 시급은{pay_rate}원이고, 월급여는{monthly_pay}원이다:') # 계산된 일한 시간, 시급, 월급을 출력합니다. f-string 포매팅을 사용하여 변수의 값을 직접 문자열 안에 넣어 출력합니다.\n",
        "# f-string은 파이썬 3.6 이후 버전에서 지원하는 문자열 포매팅 방식으로, {} 안에 변수를 넣으면 그 변수의 값이 출력됩니다."
      ],
      "metadata": {
        "colab": {
          "base_uri": "https://localhost:8080/"
        },
        "id": "1otAyxGvJehT",
        "outputId": "b8c0ecbe-6250-45bb-ce54-b8b31d57b8d0"
      },
      "execution_count": null,
      "outputs": [
        {
          "output_type": "stream",
          "name": "stdout",
          "text": [
            "일한 시간을 입력하시오:10\n",
            "시급을 입력하시오(23기준 9620원):9620\n",
            "일한 시간은10이고, 시급은9620원이고, 월급여는96200원이다:\n"
          ]
        }
      ]
    },
    {
      "cell_type": "markdown",
      "source": [
        "3.환율하는 코드 작성\n",
        " - 원의 변수는 won이다.\n",
        " - 달러의 변수는 usd이다.\n",
        " - 환전의 변수는 exchange이다."
      ],
      "metadata": {
        "id": "Hm7UxrajM2OC"
      }
    },
    {
      "cell_type": "code",
      "source": [
        "won=int(input(\"환전할 금액을 입력(kor):\")) # 사용자로부터 \"환전할 금액을 입력(kor):\"라는 메시지와 함께 환전할 원화 금액을 입력받습니다. 입력받은 값은 문자열 형태이므로 int 함수를 사용해 정수형으로 변환합니다.\n",
        "usd=int(input(\"현재 달러의 환율 입력(231031: 1372):\")) # 위와 같은 방식으로 현재 달러 환율을 입력받습니다. \"현재 달러의 환율 입력(231031: 1372):\"라는 메시지를 보여주며 입력을 받습니다.\n",
        "exchange=won//usd # 환전할 원화 금액을 현재 달러 환율로 나누어 환전 가능한 달러 금액을 계산하고, 그 결과를 exchange에 저장합니다. // 연산자를 사용하여 몫만 구합니다.\n",
        "print(f'환전할 금액은{won}이며, 달러금액은 {usd}이고, 환전금액은 {exchange}달러이다.') # 계산된 환전할 원화 금액, 달러 환율, 환전 가능한 달러 금액을 출력합니다. f-string 포매팅을 사용하여 변수의 값을 직접 문자열 안에 넣어 출력합니다."
      ],
      "metadata": {
        "colab": {
          "base_uri": "https://localhost:8080/"
        },
        "id": "6g59uBWnM20K",
        "outputId": "8ef519ac-9730-488f-9f9d-dc78810f7347"
      },
      "execution_count": null,
      "outputs": [
        {
          "output_type": "stream",
          "name": "stdout",
          "text": [
            "환전할 금액을 입력(kor):5000\n",
            "현재 달러의 환율 입력(231031: 1372):1372\n",
            "환전할 금액은5000이며, 달러금액은 1372이고, 환전금액은 3달러이다.\n"
          ]
        }
      ]
    },
    {
      "cell_type": "markdown",
      "source": [
        "4.화씨(fahrenheit)를 섭씨(celcius)로 변환하는 코드작성\n",
        "\n"
      ],
      "metadata": {
        "id": "U_ikZLRFODey"
      }
    },
    {
      "cell_type": "code",
      "source": [
        "fahrenheit=int(input('화씨 온도를 입력하시오.:')) # 사용자로부터 \"화씨 온도를 입력하시오.:\"라는 메시지와 함께 화씨 온도를 입력받습니다. 입력받은 값은 문자열 형태이므로 int 함수를 사용해 정수형으로 변환합니다.\n",
        "celcius=(fahrenheit-32)/1.8 # 화씨 온도를 섭씨 온도로 변환하는 공식에 따라 계산하고, 그 결과를 celcius에 저장합니다.\n",
        "print(f'화씨온도는 {fahrenheit}도는, 섭씨온도는 {celcius}도입니다.') # 계산된 화씨 온도와 섭씨 온도를 출력합니다. f-string 포매팅을 사용하여 변수의 값을 직접 문자열 안에 넣어 출력합니다."
      ],
      "metadata": {
        "colab": {
          "base_uri": "https://localhost:8080/"
        },
        "id": "GQytEUWwP5Z4",
        "outputId": "5e70e13f-24c8-4f94-a3a4-ad75a1d2bdb3"
      },
      "execution_count": null,
      "outputs": [
        {
          "output_type": "stream",
          "name": "stdout",
          "text": [
            "화씨 온도를 입력하시오.:100\n",
            "화씨온도는 100도는, 섭씨온도는 37.77777777777778도입니다.\n"
          ]
        }
      ]
    },
    {
      "cell_type": "markdown",
      "source": [
        "5.섭씨(celcius)를 섭씨화씨(fahrenheit)로 변환하는 코드작성"
      ],
      "metadata": {
        "id": "_-UjO9zAUqkX"
      }
    },
    {
      "cell_type": "code",
      "source": [
        "celcius=float(input('섭씨 온도를 입력하시오.:')) # 사용자로부터 \"섭씨 온도를 입력하시오.:\"라는 메시지와 함께 섭씨 온도를 입력받습니다. 입력받은 값은 문자열 형태이므로 float 함수를 사용해 실수형으로 변환합니다.\n",
        "fahrenheit=(celcius*1.8)+32 # 섭씨 온도를 화씨 온도로 변환하는 공식에 따라 계산하고, 그 결과를 fahrenheit에 저장합니다.\n",
        "print(f'섭씨온도는 {celcius}도는, 화씨 {fahrenheit}입니다.') # 계산된 섭씨 온도와 화씨 온도를 출력합니다. f-string 포매팅을 사용하여 변수의 값을 직접 문자열 안에 넣어 출력합니다."
      ],
      "metadata": {
        "colab": {
          "base_uri": "https://localhost:8080/"
        },
        "id": "DZCr5xjYP1-x",
        "outputId": "c7429419-e834-418b-b8e2-6b134e3da6d7"
      },
      "execution_count": null,
      "outputs": [
        {
          "output_type": "stream",
          "name": "stdout",
          "text": [
            "섭씨 온도를 입력하시오.:37.77777777777778\n",
            "섭씨온도는 37.77777777777778도는, 화씨 100.0입니다.\n"
          ]
        }
      ]
    },
    {
      "cell_type": "markdown",
      "source": [
        "6.사용자로부터 2개의 정수를 받아서 합계를 출력하는 코드"
      ],
      "metadata": {
        "id": "acyD-nKTVJ-W"
      }
    },
    {
      "cell_type": "code",
      "source": [
        "x=int(input(\"x의 값을 입력하시오.:\")) # 사용자로부터 \"x의 값을 입력하시오.:\"라는 메시지와 함께 x의 값을 입력받습니다. 입력받은 값은 문자열 형태이므로 int 함수를 사용해 정수형으로 변환합니다.\n",
        "y=int(input(\"y의 값을 입력하시오.:\")) # 위와 같은 방식으로 y의 값을 입력받습니다\n",
        "sum=x+y # x와 y를 더하여 그 결과를 sum에 저장합니다.\n",
        "print(sum) # 계산된 합을 출력합니다."
      ],
      "metadata": {
        "colab": {
          "base_uri": "https://localhost:8080/"
        },
        "id": "iquCeDUpVY6v",
        "outputId": "cf47204e-dbe9-4c08-f14a-c18c50a19d56"
      },
      "execution_count": null,
      "outputs": [
        {
          "output_type": "stream",
          "name": "stdout",
          "text": [
            "x의 값을 입력하시오.:5\n",
            "y의 값을 입력하시오.:7\n",
            "12\n"
          ]
        }
      ]
    },
    {
      "cell_type": "markdown",
      "source": [
        "7.부가세 계산하는 코드"
      ],
      "metadata": {
        "id": "4Kkuprg0X7om"
      }
    },
    {
      "cell_type": "code",
      "source": [
        "price=int(input(\"상품의 가격을 입력하시오.:\")) # 사용자로부터 \"상품의 가격을 입력하시오.:\"라는 메시지와 함께 상품의 가격을 입력받습니다. 입력받은 값은 문자열 형태이므로 int 함수를 사용해 정수형으로 변환합니다.\n",
        "vat=price*0.1 # 상품 가격에 0.1을 곱하여 부가가치세를 계산하고, 그 결과를 vat에 저장합니다.\n",
        "print(vat) # 계산된 부가가치세를 출력합니다"
      ],
      "metadata": {
        "id": "sBlRml4zYmE_",
        "outputId": "5ae0df29-5adf-4444-922c-468d0df36b75",
        "colab": {
          "base_uri": "https://localhost:8080/"
        }
      },
      "execution_count": null,
      "outputs": [
        {
          "output_type": "stream",
          "name": "stdout",
          "text": [
            "상품의 가격을 입력하시오.:5000\n",
            "500.0\n"
          ]
        }
      ]
    }
  ]
}