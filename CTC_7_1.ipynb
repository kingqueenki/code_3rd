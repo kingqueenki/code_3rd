{
  "nbformat": 4,
  "nbformat_minor": 0,
  "metadata": {
    "colab": {
      "provenance": [],
      "authorship_tag": "ABX9TyM++Tbzj8jk/pPfPl4kLWzz",
      "include_colab_link": true
    },
    "kernelspec": {
      "name": "python3",
      "display_name": "Python 3"
    },
    "language_info": {
      "name": "python"
    }
  },
  "cells": [
    {
      "cell_type": "markdown",
      "metadata": {
        "id": "view-in-github",
        "colab_type": "text"
      },
      "source": [
        "<a href=\"https://colab.research.google.com/github/kingqueenki/code_3rd/blob/main/CTC_7_1.ipynb\" target=\"_parent\"><img src=\"https://colab.research.google.com/assets/colab-badge.svg\" alt=\"Open In Colab\"/></a>"
      ]
    },
    {
      "cell_type": "markdown",
      "source": [
        "1. 사용자로부터 3개의 값(x,y,z)를 입력받아서 각각 1씩 증가되고, 출력되는 코드작성"
      ],
      "metadata": {
        "id": "6xhFWWsZG8FN"
      }
    },
    {
      "cell_type": "code",
      "execution_count": 1,
      "metadata": {
        "colab": {
          "base_uri": "https://localhost:8080/"
        },
        "id": "Clj9xDwYG7a9",
        "outputId": "112d472e-d42d-4de8-9d62-5daedc97a350"
      },
      "outputs": [
        {
          "output_type": "stream",
          "name": "stdout",
          "text": [
            "x의 값을 입력하시오.:1\n",
            "y의 값을 입력하시오.:2\n",
            "z의 값을 입력하시오.:3\n",
            "x의 값은2이며,y의 값은 3이고,z의 값은 4이다.\n"
          ]
        }
      ],
      "source": [
        "x=int(input(\"x의 값을 입력하시오.:\"))\n",
        "y=int(input(\"y의 값을 입력하시오.:\"))\n",
        "z=int(input(\"z의 값을 입력하시오.:\"))\n",
        "x=x+1\n",
        "y=y+1\n",
        "z=z+1\n",
        "print(f'x의 값은{x}이며,y의 값은 {y}이고,z의 값은 {z}이다.')"
      ]
    },
    {
      "cell_type": "markdown",
      "source": [
        "2. 알바생의 시급과 시간을 계산하여 월급을 출력하는 코드\n",
        "\n",
        "---\n",
        "\n"
      ],
      "metadata": {
        "id": "mcLMA-clJMGD"
      }
    },
    {
      "cell_type": "code",
      "source": [
        "hours_worked=int(input(\"일한 시간을 입력하시오:\"))\n",
        "pay_rate=int(input(\"시급을 입력하시오(23기준 9620원):\"))\n",
        "monthly_pay=hours_worked*pay_rate\n",
        "print(f'일한 시간은{hours_worked}이고, 시급은{pay_rate}원이고, 월급여는{monthly_pay}원이다:')\n"
      ],
      "metadata": {
        "colab": {
          "base_uri": "https://localhost:8080/"
        },
        "id": "1otAyxGvJehT",
        "outputId": "b8c0ecbe-6250-45bb-ce54-b8b31d57b8d0"
      },
      "execution_count": 4,
      "outputs": [
        {
          "output_type": "stream",
          "name": "stdout",
          "text": [
            "일한 시간을 입력하시오:10\n",
            "시급을 입력하시오(23기준 9620원):9620\n",
            "일한 시간은10이고, 시급은9620원이고, 월급여는96200원이다:\n"
          ]
        }
      ]
    },
    {
      "cell_type": "markdown",
      "source": [
        "3.환율하는 코드 작성\n",
        " - 원의 변수는 won이다.\n",
        " - 달러의 변수는 usd이다.\n",
        " - 환전의 변수는 exchange이다."
      ],
      "metadata": {
        "id": "Hm7UxrajM2OC"
      }
    },
    {
      "cell_type": "code",
      "source": [
        "won=int(input(\"환전할 금액을 입력(kor):\"))\n",
        "usd=int(input(\"현재 달러의 환율 입력(231031: 1372):\"))\n",
        "exchange=won*usd\n",
        "print(f'환전할 금액은{won}이며, 달러금액은 {usd}이고, 환전금액은 {exchange}이다.')"
      ],
      "metadata": {
        "colab": {
          "base_uri": "https://localhost:8080/"
        },
        "id": "6g59uBWnM20K",
        "outputId": "538c680f-7ed6-4b87-c5e5-7a8b1eab7b04"
      },
      "execution_count": 5,
      "outputs": [
        {
          "output_type": "stream",
          "name": "stdout",
          "text": [
            "환전할 금액을 입력(kor):5000\n",
            "현재 달러의 환율 입력(231031: 1372):1372\n",
            "환전할 금액은5000이며, 달러금액은 1372이고, 환전금액은 6860000이다.\n"
          ]
        }
      ]
    },
    {
      "cell_type": "code",
      "source": [],
      "metadata": {
        "id": "GQytEUWwP5Z4"
      },
      "execution_count": null,
      "outputs": []
    },
    {
      "cell_type": "markdown",
      "source": [
        "4.화씨(fahrenheit)를 섭씨(celcius)로 변환하는 코드작성"
      ],
      "metadata": {
        "id": "U_ikZLRFODey"
      }
    },
    {
      "cell_type": "code",
      "source": [
        "celcius=float(input('섭씨 온도를 입력하시오.:'))\n",
        "fahrenheit=(celcius*1.8)+32\n",
        "print(f'섭씨온도는 {celcius}도는, 화씨 {fahrenheit}입니다.')"
      ],
      "metadata": {
        "colab": {
          "base_uri": "https://localhost:8080/"
        },
        "id": "DZCr5xjYP1-x",
        "outputId": "44d229dc-5acf-487a-c28e-0f4bfb45750e"
      },
      "execution_count": 8,
      "outputs": [
        {
          "output_type": "stream",
          "name": "stdout",
          "text": [
            "섭씨 온도를 입력하시오.:37.7\n",
            "섭씨온도는 37.7도는, 화씨 99.86000000000001입니다.\n"
          ]
        }
      ]
    }
  ]
}